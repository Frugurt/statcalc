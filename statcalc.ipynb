{
 "cells": [
  {
   "cell_type": "code",
   "execution_count": 1,
   "metadata": {},
   "outputs": [],
   "source": [
    "import statlist\n",
    "from item_simulation import ItemTest\n",
    "from numpy import random\n",
    "from copy import copy"
   ]
  },
  {
   "cell_type": "markdown",
   "metadata": {},
   "source": [
    "Now for each item you need to make a class inherited from __ItemTest__ and define two methods for it: constructor and roll_stats. Below is example of trifecta Hellfire Amulet for wizard defined that way"
   ]
  },
  {
   "cell_type": "code",
   "execution_count": 2,
   "metadata": {},
   "outputs": [],
   "source": [
    "class Hellfire(ItemTest):\n",
    "    def __init__(self):\n",
    "        self.isoffhand = False\n",
    "        self.isweapon = False\n",
    "        # here in most cases you just need to pick the right type, but sometimes you also need to edit these dicts\n",
    "        # you only need to add non-standard stats here if they are rerollable\n",
    "        self.primary_stats = copy(statlist.amulet_primary)\n",
    "        self.secondary_stats = copy(statlist.amulet_secondary)\n",
    "        # number of primary and secondary stats that this item can roll\n",
    "        self.n = 2\n",
    "        self.m = 1\n",
    "        # all guaranteed affixes, you can put any name here it doesn't have to be one of the affixes from statlist\n",
    "        # like put \"orange\" or \"yangrcr\" for any legendary affixes it doesn't really matter\n",
    "        self.guaranteed = ['mainstat', 'socket', 'passive']\n",
    "        # stats that you want and how much of each you want\n",
    "        # other than stats from self.guaranteed and statlist, you can put \"ancient\" and \"primal\" here\n",
    "        # you can define multiple configurations if you want\n",
    "        # the minimum value of stat is a bit tricky\n",
    "        # 0 (or any negative number) means you don't care (usually the case with mainstat)\n",
    "        # any other number for most stats is self explanatory, e.g. 'CC':9 means you want at least 9% crit chance\n",
    "        # but %Skill, Secondary Resist and %Element are combined with other similar stats \n",
    "        # for example here we have stat 'element' which is actually 4 stats: arcane, cold, fire, lightning\n",
    "        # each of them can roll in 15-20 range (6 points), so we roll all 4 at once as 1-24 range\n",
    "        # this way we can say that 1-18 correspond to 3 elements that we don't need, and 19-24 is our desired element\n",
    "        # in this case arcane. 19 = 15% aracne, 24 = 20% arcane. Same with 'passive' affix: we say that each of 18\n",
    "        # wizard's passives is a number in range 1-18 and then the last 5 (14-18) are the good passives\n",
    "        self.desired = [\n",
    "                        {'passive':14, 'element':20, 'CC':9, 'CHD':90, 'socket':0, 'ancient':0},\n",
    "                        {'passive':14, 'element':23, 'CC':8, 'CHD':85, 'socket':0, 'ancient':0},\n",
    "                        {'passive':14, 'element':19, 'CC':10, 'CHD':95, 'socket':0, 'ancient':0},\n",
    "                       ]\n",
    "\n",
    "    # this methods needs to produce a dict with affix - value for each affix that occurs in self.desired\n",
    "    def roll_stats(self, isprimal):\n",
    "        # this line will deal with all stats where you put 0 as value, UNLESS your different configurations in\n",
    "        # self.desired have different such stats\n",
    "        rolls = dict([(key, 0) for key in self.desired[0]])\n",
    "        # rolling every stats which value actually matters, most are self-explanatory multiple affixes are covered above\n",
    "        rolls['CC'] = random.randint(16, 21) * 0.5\n",
    "        rolls['CHD'] = random.randint(51, 101)\n",
    "        rolls['element'] = random.randint(1, 25)\n",
    "        rolls['passive'] = random.randint(1, 19)\n",
    "        if isprimal:\n",
    "            # for primal set rolls to their max value, for multistats you have to randomly choose one of max values\n",
    "            rolls['CC'] = 10\n",
    "            rolls['CHD'] = 100\n",
    "            rolls['element'] = random.randint(1, 5) * 6\n",
    "            rolls['passive'] = random.randint(1, 19)\n",
    "            \n",
    "        return rolls"
   ]
  },
  {
   "cell_type": "markdown",
   "metadata": {},
   "source": [
    "After that you just need to create an instance of your class and call its __test()__ method,\n",
    "\n",
    "test takes 2 arguments: number of tries (default 100000) and debug (default false)"
   ]
  },
  {
   "cell_type": "code",
   "execution_count": 3,
   "metadata": {},
   "outputs": [
    {
     "name": "stdout",
     "output_type": "stream",
     "text": [
      "Simulating: [--------------------------------------->] 100.00%\n",
      "\n",
      "On average, one in 5714 items has desired stats.\n"
     ]
    }
   ],
   "source": [
    "Hellfire().test(int(4e5))"
   ]
  },
  {
   "cell_type": "code",
   "execution_count": 4,
   "metadata": {},
   "outputs": [
    {
     "name": "stdout",
     "output_type": "stream",
     "text": [
      "['mainstat', 'socket', 'passive', 'RCR', 'AR', 'level']\n",
      "{'passive': 1, 'element': 16, 'CC': 8.5, 'CHD': 88, 'socket': 0, 'ancient': 0}\n",
      "['mainstat', 'socket', 'passive', 'CC', 'element', 'res']\n",
      "{'passive': 12, 'element': 10, 'CC': 9.0, 'CHD': 66, 'socket': 0, 'ancient': 0}\n",
      "['mainstat', 'socket', 'passive', 'avgdmg', 'element', 'LPK']\n",
      "{'passive': 17, 'element': 12, 'CC': 8.5, 'CHD': 82, 'socket': 0, 'ancient': 0}\n",
      "['mainstat', 'socket', 'passive', 'element', 'AD', 'globe']\n",
      "{'passive': 11, 'element': 15, 'CC': 10.0, 'CHD': 92, 'socket': 0, 'ancient': 0}\n",
      "['mainstat', 'socket', 'passive', 'AD', 'vit', 'CCR']\n",
      "{'passive': 11, 'element': 1, 'CC': 9.0, 'CHD': 64, 'socket': 0, 'ancient': 0}\n",
      "['mainstat', 'socket', 'passive', 'element', 'CDR', 'res']\n",
      "{'passive': 10, 'element': 4, 'CC': 8.0, 'CHD': 58, 'socket': 0, 'ancient': 0}\n",
      "['mainstat', 'socket', 'passive', 'element', 'CDR', 'exp']\n",
      "{'passive': 2, 'element': 11, 'CC': 8.5, 'CHD': 99, 'socket': 0, 'ancient': 0}\n",
      "['mainstat', 'socket', 'passive', 'life', 'vit', 'exp']\n",
      "{'passive': 9, 'element': 14, 'CC': 8.5, 'CHD': 90, 'socket': 0, 'ancient': 0}\n",
      "['mainstat', 'socket', 'passive', 'armor', 'vit', 'res']\n",
      "{'passive': 6, 'element': 21, 'CC': 9.5, 'CHD': 65, 'socket': 0, 'ancient': 0}\n",
      "['mainstat', 'socket', 'passive', 'IAS', 'AR', 'CCR']\n",
      "{'passive': 17, 'element': 14, 'CC': 9.5, 'CHD': 90, 'socket': 0, 'ancient': 0}\n",
      "['mainstat', 'socket', 'passive', 'vit', 'life', 'gold']\n",
      "{'passive': 7, 'element': 18, 'CC': 8.0, 'CHD': 92, 'socket': 0, 'ancient': 0}\n",
      "['mainstat', 'socket', 'passive', 'element', 'vit', 'res']\n",
      "{'passive': 3, 'element': 6, 'CC': 9.0, 'CHD': 92, 'socket': 0, 'ancient': 0}\n",
      "['mainstat', 'socket', 'passive', 'element', 'RCR', 'res']\n",
      "{'passive': 15, 'element': 3, 'CC': 8.0, 'CHD': 52, 'socket': 0, 'ancient': 0}\n",
      "['mainstat', 'socket', 'passive', 'element', 'avgdmg', 'globe']\n",
      "{'passive': 10, 'element': 3, 'CC': 9.5, 'CHD': 90, 'socket': 0, 'ancient': 0}\n",
      "['mainstat', 'socket', 'passive', 'ancient', 'CDR', 'vit', 'res']\n",
      "{'passive': 3, 'element': 15, 'CC': 8.0, 'CHD': 92, 'socket': 0, 'ancient': 0}\n",
      "['mainstat', 'socket', 'passive', 'element', 'armor', 'LPK']\n",
      "{'passive': 4, 'element': 3, 'CC': 9.5, 'CHD': 72, 'socket': 0, 'ancient': 0}\n",
      "['mainstat', 'socket', 'passive', 'RCR', 'avgdmg', 'CCR']\n",
      "{'passive': 12, 'element': 7, 'CC': 8.5, 'CHD': 78, 'socket': 0, 'ancient': 0}\n",
      "['mainstat', 'socket', 'passive', 'avgdmg', 'RCR', 'thorns']\n",
      "{'passive': 2, 'element': 23, 'CC': 9.5, 'CHD': 88, 'socket': 0, 'ancient': 0}\n",
      "['mainstat', 'socket', 'passive', 'vit', 'life', 'globe']\n",
      "{'passive': 17, 'element': 15, 'CC': 9.0, 'CHD': 62, 'socket': 0, 'ancient': 0}\n",
      "['mainstat', 'socket', 'passive', 'element', 'vit', 'globe']\n",
      "{'passive': 10, 'element': 15, 'CC': 9.5, 'CHD': 88, 'socket': 0, 'ancient': 0}\n",
      "\n",
      "\n",
      "No items with desirable stats after 20 tries.\n"
     ]
    }
   ],
   "source": [
    "Hellfire().test(tries=20, debug=True)"
   ]
  },
  {
   "cell_type": "markdown",
   "metadata": {},
   "source": [
    "Some more examples of items for copypasting *etc*."
   ]
  },
  {
   "cell_type": "code",
   "execution_count": 5,
   "metadata": {},
   "outputs": [],
   "source": [
    "# here I wanted to gamble/upgrade bracers for lwiz and tried to figure out what class is best for that\n",
    "# wiz has a chance to roll the right element, while necro gets 25% more APDs from the same amount of shards \n",
    "class APD(ItemTest):\n",
    "    def __init__(self):\n",
    "        self.isoffhand = False\n",
    "        self.isweapon = False\n",
    "        self.primary_stats = copy(statlist.bracer_primary)\n",
    "        self.secondary_stats = copy(statlist.bracer_secondary)\n",
    "        self.n = 3\n",
    "        self.m = 1\n",
    "        self.guaranteed = ['mainstat', 'reduction']\n",
    "        self.desired = [\n",
    "                        {'CC':5.5, 'mainstat':0, 'vit':0, 'element':19, 'ancient':0, 'ranged':0, 'reduction':11},\n",
    "                        {'CC':5.5, 'mainstat':0, 'LPH':0, 'element':19, 'ancient':0, 'reduction':11},\n",
    "                       ]\n",
    "        \n",
    "    def roll_stats(self, isprimal):\n",
    "        rolls = dict([(key, 0) for key in self.desired[0]]) \n",
    "        rolls['CC'] = random.randint(9, 13) * 0.5\n",
    "        rolls['element'] = random.randint(1, 25)\n",
    "        rolls['reduction'] = random.randint(9, 13)\n",
    "        if isprimal:\n",
    "            rolls['CC'] = 6\n",
    "            rolls['element'] = random.randint(1, 5) * 6\n",
    "            rolls['reduction'] = 12\n",
    "        return rolls\n",
    "        \n",
    "class APD_necro(ItemTest):\n",
    "    def __init__(self):\n",
    "        self.isoffhand = False\n",
    "        self.isweapon = False\n",
    "        self.primary_stats = copy(statlist.bracer_primary)\n",
    "        self.secondary_stats = copy(statlist.bracer_secondary)\n",
    "        self.n = 3\n",
    "        self.m = 1\n",
    "        self.guaranteed = ['mainstat', 'reduction']\n",
    "        self.desired = [\n",
    "                        {'CC':5.5, 'mainstat':0, 'vit':0, 'element':19, 'ancient':0, 'ranged':0, 'reduction':11},\n",
    "                        {'CC':5.5, 'mainstat':0, 'LPH':0, 'element':19, 'ancient':0, 'reduction':11},\n",
    "                       ]\n",
    "        \n",
    "    def roll_stats(self, isprimal):\n",
    "        rolls = dict([(key, 0) for key in self.desired[0]]) \n",
    "        rolls['CC'] = random.randint(9, 13) * 0.5\n",
    "        # the only diffectemce here is that necro can only roll element in range 1-18, and we need 19+ (i.e. lightning)\n",
    "        rolls['element'] = random.randint(1, 19)\n",
    "        rolls['reduction'] = random.randint(9, 13)\n",
    "        if isprimal:\n",
    "            rolls['CC'] = 6\n",
    "            rolls['element'] = random.randint(1, 4) * 6\n",
    "            rolls['reduction'] = 12\n",
    "        return rolls"
   ]
  },
  {
   "cell_type": "code",
   "execution_count": 6,
   "metadata": {},
   "outputs": [
    {
     "name": "stdout",
     "output_type": "stream",
     "text": [
      "Simulating: [--------------------------------------->] 99.96%\n",
      "\n",
      "On average, one in 157 items has desired stats.\n",
      "Simulating: [--------------------------------------->] 99.96%\n",
      "\n",
      "On average, one in 676 items has desired stats.\n"
     ]
    }
   ],
   "source": [
    "APD().test()\n",
    "APD_necro().test()"
   ]
  },
  {
   "cell_type": "markdown",
   "metadata": {},
   "source": [
    "So yeah, apparently it's much better on wiz LuL"
   ]
  },
  {
   "cell_type": "code",
   "execution_count": 7,
   "metadata": {},
   "outputs": [],
   "source": [
    "class Yang(ItemTest):\n",
    "    def __init__(self):\n",
    "        self.isoffhand = False\n",
    "        self.isweapon = True\n",
    "        self.primary_stats = copy(statlist.weapon_primary)\n",
    "        self.secondary_stats = copy(statlist.bow_secondary)\n",
    "        self.n = 1\n",
    "        self.m = 1\n",
    "        self.guaranteed = ['mainstat', 'damage', 'orange', 'dmg', 'yangrcr']\n",
    "        # for damage I just use a single value - min + max, it goes up to 3500, and I want 3370+\n",
    "        # so this bow will be within 90 DPS of Primal\n",
    "        self.desired = [\n",
    "                        {'mainstat':0, 'damage':3370, 'dmg':8, 'orange':197, 'yangrcr':46, 'resource':12, 'AD':22, 'ancient':0},\n",
    "                        {'mainstat':0, 'damage':3370, 'dmg':8, 'orange':197, 'yangrcr':46, 'resource':12, 'CDR':8, 'ancient':0},\n",
    "                        {'mainstat':0, 'damage':3370, 'dmg':8, 'orange':197, 'yangrcr':46, 'resource':12, 'LPH':0, 'ancient':0},\n",
    "                        {'mainstat':0, 'damage':3370, 'dmg':8, 'orange':197, 'yangrcr':46, 'resource':12, 'elitedmg':9, 'ancient':0},\n",
    "                       ]\n",
    "        \n",
    "    def roll_stats(self, isprimal):\n",
    "        rolls = dict([(key, 0) for key in self.desired[0]]) \n",
    "        rolls['damage'] = random.randint(1318, 1561) + random.randint(1609, 1941)\n",
    "        rolls['dmg'] = random.randint(6, 11) \n",
    "        rolls['yangrcr'] = random.randint(41, 51)\n",
    "        rolls['CDR'] = random.randint(6, 11)\n",
    "        rolls['AD'] = random.randint(16, 25) \n",
    "        rolls['elitedmg'] = random.randint(6, 11)\n",
    "        rolls['resuorce'] = random.randint(10, 13) \n",
    "        rolls['orange'] = random.randint(151, 201)\n",
    "        if isprimal:\n",
    "            rolls['damage'] = 3500\n",
    "            rolls['dmg'] = 10\n",
    "            rolls['yangrcr'] = 50\n",
    "            rolls['CDR'] = 10\n",
    "            rolls['AD'] = 24\n",
    "            rolls['elitedmg'] = 10\n",
    "            rolls['resource'] = 12\n",
    "            rolls['orange'] = 200\n",
    "        return rolls"
   ]
  },
  {
   "cell_type": "code",
   "execution_count": 8,
   "metadata": {},
   "outputs": [],
   "source": [
    "class Cindercoat(ItemTest):\n",
    "    def __init__(self):\n",
    "        self.isoffhand = False\n",
    "        self.isweapon = False\n",
    "        # here we need to add unique rerollable stat fire damage on chest piece\n",
    "        # since it's a guaranteed stat, its weight doesn't really matter, I put 1000 here but anything will do\n",
    "        self.primary_stats = {**statlist.chest_primary, 'fire':1000}\n",
    "        self.secondary_stats = copy(statlist.chest_secondary)\n",
    "        self.n = 2\n",
    "        self.m = 1\n",
    "        self.guaranteed = ['mainstat', 'fire', 'firercr']\n",
    "        self.desired = [\n",
    "                        {'ancient':0, 'mainstat':0, 'vit':0, 'socket':3, 'fire':20, 'firercr':29, 'res':0},\n",
    "                       ]\n",
    "        \n",
    "    def roll_stats(self, isprimal):\n",
    "        rolls = dict([(key, 0) for key in self.desired[0]]) \n",
    "        rolls['fire'] = random.randint(15,21)\n",
    "        rolls['firercr'] = random.randint(23,31)\n",
    "        rolls['sockets'] = random.randint(1,4)\n",
    "        if isprimal:\n",
    "            rolls['fire'] = 20\n",
    "            rolls['firercr'] = 30\n",
    "            rolls['sockets'] = 3\n",
    "        return rolls"
   ]
  },
  {
   "cell_type": "code",
   "execution_count": 9,
   "metadata": {},
   "outputs": [],
   "source": [
    "#Swamp Land Wader with Holy%\n",
    "\n",
    "class SLW(ItemTest):\n",
    "    def __init__(self):\n",
    "        self.isoffhand = False\n",
    "        self.isweapon = False\n",
    "        # once again add new rerollable stat, this time weight 0 since it doesn't matter\n",
    "        self.primary_stats = {**statlist.pants_primary, \"element\":0}\n",
    "        self.secondary_stats = copy(statlist.pants_secondary)\n",
    "        self.n = 2\n",
    "        self.m = 1\n",
    "        self.guaranteed = ['mainstat', 'element', 'socket']\n",
    "        self.desired = [\n",
    "                        {'socket':2, 'element':2, 'mainstat':0, 'vit':0, 'AR':0, 'ancient':0},\n",
    "                       ]\n",
    "        \n",
    "    def roll_stats(self, isprimal):\n",
    "        rolls = dict([(key, 0) for key in self.desired[0]]) \n",
    "        # element always rolls 1, but we need 2 - SLWs only come with WD elements\n",
    "        rolls['element'] = 1\n",
    "        rolls['socket'] = 2\n",
    "        if isprimal:\n",
    "            # here primal changes nothing as we don't care about any rolls\n",
    "            pass\n",
    "        return rolls"
   ]
  },
  {
   "cell_type": "code",
   "execution_count": null,
   "metadata": {},
   "outputs": [],
   "source": []
  }
 ],
 "metadata": {
  "kernelspec": {
   "display_name": "Python 3",
   "language": "python",
   "name": "python3"
  },
  "language_info": {
   "codemirror_mode": {
    "name": "ipython",
    "version": 3
   },
   "file_extension": ".py",
   "mimetype": "text/x-python",
   "name": "python",
   "nbconvert_exporter": "python",
   "pygments_lexer": "ipython3",
   "version": "3.6.5"
  }
 },
 "nbformat": 4,
 "nbformat_minor": 2
}
